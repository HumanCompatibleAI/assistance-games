{
 "cells": [
  {
   "cell_type": "code",
   "execution_count": null,
   "metadata": {},
   "outputs": [],
   "source": [
    "import matplotlib.pyplot as plt\n",
    "import os\n",
    "import numpy as np"
   ]
  },
  {
   "cell_type": "code",
   "execution_count": null,
   "metadata": {},
   "outputs": [],
   "source": [
    "# this notebook plots evals stats saved by EvalCallback\n",
    "base_path = '../../logs/h_near_d_paper/'\n",
    "filenames = os.listdir(base_path)\n",
    "filenames = [f for f in filenames if 'dqn' in f]\n",
    "filenames.sort()\n",
    "filenames"
   ]
  },
  {
   "cell_type": "code",
   "execution_count": null,
   "metadata": {},
   "outputs": [],
   "source": [
    "def plot_evals(filenames):\n",
    "    plt.figure(num=None, figsize=(15, 6), dpi=80, facecolor='w', edgecolor='k')\n",
    "    miny, maxy = 100, -100\n",
    "    for f in filenames:\n",
    "        eval_data = np.load(base_path + f + '/evaluations.npz')\n",
    "        results = eval_data['results'].mean(axis=1)\n",
    "        miny = min(min(results), miny)\n",
    "        maxy = max(max(results), maxy)\n",
    "        \n",
    "        plt.plot(eval_data['timesteps'], results, label=f)\n",
    "        \n",
    "    plt.ylim(miny - 0.4, maxy + 0.4)\n",
    "    plt.yticks(np.arange(miny, maxy + 0.5, 0.5))\n",
    "    plt.legend()\n",
    "    plt.grid(axis='y')\n",
    "    plt.xlabel('Timesteps')\n",
    "    plt.ylabel('Reward') \n",
    "    \n",
    "plot_evals(filenames)"
   ]
  },
  {
   "cell_type": "code",
   "execution_count": null,
   "metadata": {},
   "outputs": [],
   "source": []
  }
 ],
 "metadata": {
  "kernelspec": {
   "display_name": "Python 3",
   "language": "python",
   "name": "python3"
  },
  "language_info": {
   "codemirror_mode": {
    "name": "ipython",
    "version": 3
   },
   "file_extension": ".py",
   "mimetype": "text/x-python",
   "name": "python",
   "nbconvert_exporter": "python",
   "pygments_lexer": "ipython3",
   "version": "3.7.9"
  }
 },
 "nbformat": 4,
 "nbformat_minor": 4
}
