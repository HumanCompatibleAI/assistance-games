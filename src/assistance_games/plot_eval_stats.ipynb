{
 "cells": [
  {
   "cell_type": "code",
   "execution_count": null,
   "metadata": {},
   "outputs": [],
   "source": [
    "\"\"\"This notebook plots evals stats saved by EvalCallback\"\"\"\n",
    "import matplotlib\n",
    "import matplotlib.pyplot as plt\n",
    "import os\n",
    "import numpy as np"
   ]
  },
  {
   "cell_type": "code",
   "execution_count": null,
   "metadata": {},
   "outputs": [],
   "source": [
    "# this notebook plots evals stats saved by EvalCallback\n",
    "base_path = '../../logs/pedagogic_human_tf1_10M/'\n",
    "\n",
    "filenames = os.listdir(base_path)\n",
    "filenames = [f for f in filenames if 'dqn' in f]\n",
    "filenames.sort()\n",
    "filenames"
   ]
  },
  {
   "cell_type": "code",
   "execution_count": null,
   "metadata": {},
   "outputs": [],
   "source": [
    "def moving_average(values, window):\n",
    "    \"\"\"Smooth values by doing a moving average\"\"\"\n",
    "    values = values.reshape(-1,)\n",
    "    weights = np.repeat(1.0, window) / window\n",
    "    return np.convolve(values, weights, 'same')\n",
    "\n",
    "\n",
    "def plot_evals(filenames, min_x=-10, max_x=9_850_000, averaging_window_size=4, hline_y=None):\n",
    "    plt.figure(num=None, figsize=(15, 6), dpi=80, facecolor='w', edgecolor='k')\n",
    "    miny, maxy = 100, -100\n",
    "    for f in filenames:\n",
    "        eval_data = np.load(base_path + f + '/evaluations.npz')\n",
    "        results = eval_data['results'].mean(axis=1)\n",
    "        miny = min(min(results), miny)\n",
    "        maxy = max(max(results), maxy)\n",
    "        \n",
    "        label = f'DQN seed {f[-1]}'\n",
    "        plt.plot(eval_data['timesteps'], moving_average(results, averaging_window_size), label=label)\n",
    "    \n",
    "    if hline_y is not None:\n",
    "        plt.hlines(hline_y, min_x, max_x, \n",
    "                   colors=['black'], linestyles=['dashed'], label='Optimal performance')\n",
    "    plt.ylim(miny - 0.4, maxy + 0.4)\n",
    "    plt.xlim(min_x, max_x)\n",
    "\n",
    "    plt.yticks(np.arange(miny, maxy + 0.5, 0.5))\n",
    "    plt.legend(loc=4)\n",
    "    plt.grid(axis='y')\n",
    "    plt.xlabel('Timesteps')\n",
    "    plt.ylabel('Reward') \n",
    "    plt.yticks(ticks=np.arange(-1.5, 1.61, 0.5))\n",
    "    \n",
    "\n",
    "font = {'family' : 'Times New Roman',\n",
    "        'weight' : 'normal',\n",
    "        'size'   : 20}\n",
    "\n",
    "matplotlib.rc('font', **font)\n",
    "    \n",
    "optimal_reward = 2 - (sum(np.arange(9)*0.01) + sum(np.arange(15)*0.01))/2\n",
    "print(optimal_reward)\n",
    "plot_evals(filenames, hline_y=optimal_reward)"
   ]
  },
  {
   "cell_type": "code",
   "execution_count": null,
   "metadata": {},
   "outputs": [],
   "source": []
  },
  {
   "cell_type": "code",
   "execution_count": null,
   "metadata": {},
   "outputs": [],
   "source": []
  }
 ],
 "metadata": {
  "kernelspec": {
   "display_name": "Python 3 (ipykernel)",
   "language": "python",
   "name": "python3"
  },
  "language_info": {
   "codemirror_mode": {
    "name": "ipython",
    "version": 3
   },
   "file_extension": ".py",
   "mimetype": "text/x-python",
   "name": "python",
   "nbconvert_exporter": "python",
   "pygments_lexer": "ipython3",
   "version": "3.7.13"
  }
 },
 "nbformat": 4,
 "nbformat_minor": 4
}
