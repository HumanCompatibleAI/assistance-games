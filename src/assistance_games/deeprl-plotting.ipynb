{
 "cells": [
  {
   "cell_type": "code",
   "execution_count": 1,
   "metadata": {},
   "outputs": [],
   "source": [
    "import numpy as np\n",
    "import matplotlib.pyplot as plt\n",
    "from stable_baselines3.common.results_plotter import load_results, ts2xy, plot_results, X_TIMESTEPS\n",
    "from math import ceil\n",
    "from pathlib import Path\n",
    "\n",
    "%matplotlib inline\n"
   ]
  },
  {
   "cell_type": "code",
   "execution_count": 2,
   "metadata": {
    "scrolled": true
   },
   "outputs": [],
   "source": [
    "# assert Path(log_dir + '/Monitor.csv').exists()\n",
    "\n",
    "# plot_results([log_dir], 10e6, X_TIMESTEPS, \"cakepizza\")"
   ]
  },
  {
   "cell_type": "code",
   "execution_count": 3,
   "metadata": {},
   "outputs": [],
   "source": [
    "def moving_average(values, window):\n",
    "    \"\"\"\n",
    "    Smooth values by doing a moving average\n",
    "    :param values: (numpy array)\n",
    "    :param window: (int)\n",
    "    :return: (numpy array)\n",
    "    \"\"\"\n",
    "    weights = np.repeat(1.0, window) / window\n",
    "    return np.convolve(values, weights, 'valid')\n",
    "\n",
    "\n",
    "def plot_results_several_seeds_in_one_file(log_folder='./logs', steps_per_seed=1e6, title='Learning Curves'):\n",
    "    \"\"\"\n",
    "    plot the results\n",
    "\n",
    "    :param log_folder: (str) the save location of the results to plot\n",
    "    :param title: (str) the title of the task to plot\n",
    "    \"\"\"\n",
    "    x_all, y_all = ts2xy(load_results(log_folder), 'timesteps')\n",
    "\n",
    "    if x_all[-1] >= steps_per_seed:\n",
    "        pts_per_seed = np.where(x_all > steps_per_seed)[0][0] \n",
    "        n_seeds = ceil((len(x_all) - 20) / pts_per_seed)\n",
    "    else:\n",
    "        pts_per_seed = len(x_all)\n",
    "        n_seeds = 1\n",
    "    print('#seeds = {}'.format(n_seeds))\n",
    "    fig = plt.figure(title, figsize = (10, 4))\n",
    "    for i in range(n_seeds):\n",
    "        x = x_all[i*pts_per_seed:(i+1)*pts_per_seed]\n",
    "        y = y_all[i*pts_per_seed:(i+1)*pts_per_seed]\n",
    "        y_smoothed = moving_average(y, window=200)\n",
    "        # Truncate x\n",
    "        x = x[len(x) - len(y_smoothed):] - min(x)\n",
    "        y = y[len(y) - len(y_smoothed):]\n",
    "        plt.plot(x, y_smoothed)\n",
    "    plt.xlabel('Number of Timesteps')\n",
    "    plt.ylabel('Total reward')\n",
    "    plt.title(title + \" (Smoothed)\")\n",
    "    plt.show()\n",
    "\n",
    "    \n",
    "def plot_multiple_runs(log_folder, title='Learning Curves'):\n",
    "    fig = plt.figure(title, figsize = (10, 4))\n",
    "    paths = Path(log_folder).iterdir()\n",
    "    for path in paths:\n",
    "        #print(int(str(path)[-1]))\n",
    "        x, y = ts2xy(load_results(path), 'timesteps')\n",
    "        y_smoothed = moving_average(y, window=2000)\n",
    "        # Truncate x\n",
    "        x = x[len(x) - len(y_smoothed):]\n",
    "        y = y[len(y) - len(y_smoothed):]\n",
    "        plt.plot(x, y_smoothed, label='seed ' + str(path)[-1])\n",
    "    plt.legend()\n",
    "    plt.xlabel('Number of Timesteps')\n",
    "    plt.ylabel('Total reward')\n",
    "    plt.title(title + \" (Smoothed)\")\n",
    "    plt.show()"
   ]
  },
  {
   "cell_type": "code",
   "execution_count": 4,
   "metadata": {
    "scrolled": true
   },
   "outputs": [],
   "source": [
    "# plot_results_several_seeds_in_one_file(log_folder=log_dir, steps_per_seed=10e6)"
   ]
  },
  {
   "cell_type": "code",
   "execution_count": null,
   "metadata": {},
   "outputs": [],
   "source": []
  },
  {
   "cell_type": "code",
   "execution_count": 5,
   "metadata": {
    "scrolled": true
   },
   "outputs": [
    {
     "data": {
      "image/png": "[encoded data removed]",
      "text/plain": [
       "<Figure size 720x288 with 1 Axes>"
      ]
     },
     "metadata": {
      "needs_background": "light"
     },
     "output_type": "display_data"
    }
   ],
   "source": [
    "experiment_folder = Path(\"~/assistance-logs\").expanduser()\n",
    "assert experiment_folder.exists()\n",
    "plot_multiple_runs(experiment_folder)"
   ]
  },
  {
   "cell_type": "code",
   "execution_count": null,
   "metadata": {
    "scrolled": false
   },
   "outputs": [],
   "source": [
    "log_dir = \"../../remote-logs\"\n",
    "Path(log_dir).mkdir(parents=True, exist_ok=True)\n",
    "experiment_name = 'pie_small/'\n",
    "experiment_folder = log_dir + '/' + experiment_name\n",
    "assert Path(experiment_folder).exists()\n",
    "plot_multiple_runs(experiment_folder)"
   ]
  },
  {
   "cell_type": "code",
   "execution_count": null,
   "metadata": {
    "scrolled": false
   },
   "outputs": [],
   "source": [
    "log_dir = \"../../logs\"\n",
    "Path(log_dir).mkdir(parents=True, exist_ok=True)\n",
    "experiment_name = 'pie_small/'\n",
    "experiment_folder = log_dir + '/' + experiment_name\n",
    "assert Path(experiment_folder).exists()\n",
    "plot_multiple_runs(experiment_folder)"
   ]
  },
  {
   "cell_type": "code",
   "execution_count": null,
   "metadata": {},
   "outputs": [],
   "source": []
  },
  {
   "cell_type": "code",
   "execution_count": null,
   "metadata": {},
   "outputs": [],
   "source": []
  }
 ],
 "metadata": {
  "kernelspec": {
   "display_name": "Python 3",
   "language": "python",
   "name": "python3"
  },
  "language_info": {
   "codemirror_mode": {
    "name": "ipython",
    "version": 3
   },
   "file_extension": ".py",
   "mimetype": "text/x-python",
   "name": "python",
   "nbconvert_exporter": "python",
   "pygments_lexer": "ipython3",
   "version": "3.9.12"
  }
 },
 "nbformat": 4,
 "nbformat_minor": 2
}
